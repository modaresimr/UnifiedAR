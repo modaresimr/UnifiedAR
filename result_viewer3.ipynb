{
 "cells": [
  {
   "cell_type": "markdown",
   "metadata": {},
   "source": [
    "# snakeviz is a good tool for measuring time"
   ]
  },
  {
   "cell_type": "code",
   "execution_count": 4,
   "metadata": {
    "ExecuteTime": {
     "end_time": "2020-10-25T11:01:01.603746Z",
     "start_time": "2020-10-25T11:01:01.515280Z"
    }
   },
   "outputs": [
    {
     "name": "stdout",
     "output_type": "stream",
     "text": [
      "Populating the interactive namespace from numpy and matplotlib\n"
     ]
    },
    {
     "data": {
      "application/vnd.jupyter.widget-view+json": {
       "model_id": "bdded46515aa4966a68b7919408ba229",
       "version_major": 2,
       "version_minor": 0
      },
      "text/plain": [
       "interactive(children=(Dropdown(description='file', options=(('testdata', 'testdata'), ('200514_19-35-59-VanKas…"
      ]
     },
     "metadata": {},
     "output_type": "display_data"
    }
   ],
   "source": [
    "#%matplotlib widget\n",
    "%pylab inline\n",
    "pylab.rcParams['figure.figsize'] = (8, 3)\n",
    "import  general.utils as utils\n",
    "import result_analyse.resultloader\n",
    "import result_analyse.visualisation as vs\n",
    "\n",
    "from ipywidgets import interact, interactive, fixed, interact_manual\n",
    "\n",
    "@interact\n",
    "def result_selector(file=result_analyse.resultloader.get_runs()):\n",
    "    if(file==None):return\n",
    "    print('Analysing ',file)\n",
    "    run_info,dataset,evalres=utils.loadState(file)\n",
    "    for i in range(len(evalres)):\n",
    "        evaldata=evalres[i]['test']\n",
    "        quality=evaldata.quality\n",
    "        print('Evalution quality fold=%d is %s' % (i, quality))\n",
    "        #print('func%s' % (evaldata.functions))\n",
    "        \n",
    "    #vs.visualize(dataset)\n",
    "    print(evalres[0])\n",
    "    print(len(dataset.sensor_events))\n",
    "    vs.plot_per_act(dataset,evalres)\n",
    "    vs.plot_CM(dataset,evalres)\n",
    "    for i in range(len(evalres)):\n",
    "        evaldata=evalres[i]['test']\n",
    "        # vs.my_result_analyse(evalres[i].real_events,evalres[i].pred_events)\n",
    "        vs.plotJoinAct(dataset,evaldata.real_events,evaldata.pred_events)\n",
    "\n",
    "\n"
   ]
  },
  {
   "cell_type": "code",
   "execution_count": 6,
   "metadata": {
    "ExecuteTime": {
     "end_time": "2020-10-25T11:09:21.960876Z",
     "start_time": "2020-10-25T11:09:17.806074Z"
    }
   },
   "outputs": [
    {
     "name": "stdout",
     "output_type": "stream",
     "text": [
      "Populating the interactive namespace from numpy and matplotlib\n",
      "  fold     type  accuracy  precision  recall    f1  \\\n",
      "0    0    event      0.41       0.24    0.43  0.26   \n",
      "1    0  classic      0.51       0.41    0.37  0.37   \n",
      "\n",
      "                                             runname     activityFetcher  \\\n",
      "0  SimplePreprocessing_Probabilistic_MaxActivityF...  MaxActivityFetcher   \n",
      "1  SimplePreprocessing_Probabilistic_MaxActivityF...  MaxActivityFetcher   \n",
      "\n",
      "  activityFetcher_params classifier  ... event_metric event_metric_params  \\\n",
      "0                     {}   LSTMTest  ...     Accuracy                  {}   \n",
      "1                     {}   LSTMTest  ...     Accuracy                  {}   \n",
      "\n",
      "  featureExtractor                            featureExtractor_params  \\\n",
      "0         KHistory  {'k': 2, 'method': <Simple> {'shape': (32,), '...   \n",
      "1         KHistory  {'k': 2, 'method': <Simple> {'shape': (32,), '...   \n",
      "\n",
      "          preprocessor preprocessor_params         run_date      segmentor  \\\n",
      "0  SimplePreprocessing                  {}  200514_19-46-14  Probabilistic   \n",
      "1  SimplePreprocessing                  {}  200514_19-46-14  Probabilistic   \n",
      "\n",
      "  segmentor_params        strategy  \n",
      "0               {}  SimpleStrategy  \n",
      "1               {}  SimpleStrategy  \n",
      "\n",
      "[2 rows x 28 columns]\n",
      "File 200514_19-46-14-Home1 can not import error \n"
     ]
    },
    {
     "name": "stderr",
     "output_type": "stream",
     "text": [
      "name 'logger' is not defined\n",
      "Traceback (most recent call last):\n",
      "  File \"<ipython-input-6-007a2552b913>\", line 24, in get_my_eval\n",
      "    logger.warn('File %s can not import'%item)\n",
      "NameError: name 'logger' is not defined\n"
     ]
    },
    {
     "name": "stdout",
     "output_type": "stream",
     "text": [
      "  fold     type  accuracy  precision  recall    f1  \\\n",
      "0    0    event      0.60       0.36    0.69  0.44   \n",
      "1    0  classic      0.71       0.52    0.58  0.54   \n",
      "\n",
      "                                             runname     activityFetcher  \\\n",
      "0  SimplePreprocessing_FixedEventWindow_MaxActivi...  MaxActivityFetcher   \n",
      "1  SimplePreprocessing_FixedEventWindow_MaxActivi...  MaxActivityFetcher   \n",
      "\n",
      "  activityFetcher_params classifier  ... event_metric event_metric_params  \\\n",
      "0                     {}   LSTMTest  ...     Accuracy                  {}   \n",
      "1                     {}   LSTMTest  ...     Accuracy                  {}   \n",
      "\n",
      "  featureExtractor                            featureExtractor_params  \\\n",
      "0         KHistory  {'k': 2, 'method': <Simple> {'shape': (32,), '...   \n",
      "1         KHistory  {'k': 2, 'method': <Simple> {'shape': (32,), '...   \n",
      "\n",
      "          preprocessor preprocessor_params         run_date         segmentor  \\\n",
      "0  SimplePreprocessing                  {}  200514_20-05-08  FixedEventWindow   \n",
      "1  SimplePreprocessing                  {}  200514_20-05-08  FixedEventWindow   \n",
      "\n",
      "            segmentor_params        strategy  \n",
      "0  {'size': 15, 'shift': 10}  SimpleStrategy  \n",
      "1  {'size': 15, 'shift': 10}  SimpleStrategy  \n",
      "\n",
      "[2 rows x 28 columns]\n",
      "File 200514_20-05-08-Home1 can not import error \n"
     ]
    },
    {
     "name": "stderr",
     "output_type": "stream",
     "text": [
      "name 'logger' is not defined\n",
      "Traceback (most recent call last):\n",
      "  File \"<ipython-input-6-007a2552b913>\", line 24, in get_my_eval\n",
      "    logger.warn('File %s can not import'%item)\n",
      "NameError: name 'logger' is not defined\n"
     ]
    },
    {
     "name": "stdout",
     "output_type": "stream",
     "text": [
      "  fold     type  accuracy  precision  recall    f1  \\\n",
      "0    0    event      0.63       0.41    0.63  0.46   \n",
      "1    0  classic      0.67       0.51    0.64  0.56   \n",
      "\n",
      "                                             runname     activityFetcher  \\\n",
      "0  SimplePreprocessing_FixedSlidingWindow_MaxActi...  MaxActivityFetcher   \n",
      "1  SimplePreprocessing_FixedSlidingWindow_MaxActi...  MaxActivityFetcher   \n",
      "\n",
      "  activityFetcher_params classifier  ... event_metric event_metric_params  \\\n",
      "0                     {}   LSTMTest  ...     Accuracy                  {}   \n",
      "1                     {}   LSTMTest  ...     Accuracy                  {}   \n",
      "\n",
      "  featureExtractor                            featureExtractor_params  \\\n",
      "0         KHistory  {'k': 2, 'method': <Simple> {'shape': (32,), '...   \n",
      "1         KHistory  {'k': 2, 'method': <Simple> {'shape': (32,), '...   \n",
      "\n",
      "          preprocessor preprocessor_params         run_date  \\\n",
      "0  SimplePreprocessing                  {}  200514_20-06-24   \n",
      "1  SimplePreprocessing                  {}  200514_20-06-24   \n",
      "\n",
      "            segmentor               segmentor_params        strategy  \n",
      "0  FixedSlidingWindow  {'size': 30.0, 'shift': 30.0}  SimpleStrategy  \n",
      "1  FixedSlidingWindow  {'size': 30.0, 'shift': 30.0}  SimpleStrategy  \n",
      "\n",
      "[2 rows x 28 columns]\n",
      "File 200514_20-06-24-Home1 can not import error \n"
     ]
    },
    {
     "name": "stderr",
     "output_type": "stream",
     "text": [
      "name 'logger' is not defined\n",
      "Traceback (most recent call last):\n",
      "  File \"<ipython-input-6-007a2552b913>\", line 24, in get_my_eval\n",
      "    logger.warn('File %s can not import'%item)\n",
      "NameError: name 'logger' is not defined\n"
     ]
    },
    {
     "name": "stdout",
     "output_type": "stream",
     "text": [
      "  fold     type  accuracy  precision  recall    f1  \\\n",
      "0    0    event      0.61       0.36    0.70  0.44   \n",
      "1    0  classic      0.69       0.50    0.65  0.56   \n",
      "\n",
      "                                             runname     activityFetcher  \\\n",
      "0  SimplePreprocessing_FixedEventWindow_MaxActivi...  MaxActivityFetcher   \n",
      "1  SimplePreprocessing_FixedEventWindow_MaxActivi...  MaxActivityFetcher   \n",
      "\n",
      "  activityFetcher_params classifier  ... event_metric event_metric_params  \\\n",
      "0                     {}   LSTMTest  ...     Accuracy                  {}   \n",
      "1                     {}   LSTMTest  ...     Accuracy                  {}   \n",
      "\n",
      "  featureExtractor                            featureExtractor_params  \\\n",
      "0         KHistory  {'k': 2, 'method': <Simple> {'shape': (32,), '...   \n",
      "1         KHistory  {'k': 2, 'method': <Simple> {'shape': (32,), '...   \n",
      "\n",
      "          preprocessor preprocessor_params         run_date         segmentor  \\\n",
      "0  SimplePreprocessing                  {}  200514_21-34-36  FixedEventWindow   \n",
      "1  SimplePreprocessing                  {}  200514_21-34-36  FixedEventWindow   \n",
      "\n",
      "            segmentor_params        strategy  \n",
      "0  {'size': 15, 'shift': 10}  SimpleStrategy  \n",
      "1  {'size': 15, 'shift': 10}  SimpleStrategy  \n",
      "\n",
      "[2 rows x 28 columns]\n",
      "File 200514_21-34-36-Home1 can not import error \n"
     ]
    },
    {
     "name": "stderr",
     "output_type": "stream",
     "text": [
      "name 'logger' is not defined\n",
      "Traceback (most recent call last):\n",
      "  File \"<ipython-input-6-007a2552b913>\", line 24, in get_my_eval\n",
      "    logger.warn('File %s can not import'%item)\n",
      "NameError: name 'logger' is not defined\n"
     ]
    },
    {
     "name": "stdout",
     "output_type": "stream",
     "text": [
      "  fold     type  accuracy  precision  recall    f1  \\\n",
      "0    0    event      0.65       0.45    0.65  0.50   \n",
      "1    0  classic      0.67       0.51    0.64  0.55   \n",
      "\n",
      "                                             runname     activityFetcher  \\\n",
      "0  SimplePreprocessing_FixedSlidingWindow_MaxActi...  MaxActivityFetcher   \n",
      "1  SimplePreprocessing_FixedSlidingWindow_MaxActi...  MaxActivityFetcher   \n",
      "\n",
      "  activityFetcher_params classifier  ... event_metric event_metric_params  \\\n",
      "0                     {}   LSTMTest  ...     Accuracy                  {}   \n",
      "1                     {}   LSTMTest  ...     Accuracy                  {}   \n",
      "\n",
      "  featureExtractor                            featureExtractor_params  \\\n",
      "0         KHistory  {'k': 2, 'method': <Simple> {'shape': (32,), '...   \n",
      "1         KHistory  {'k': 2, 'method': <Simple> {'shape': (32,), '...   \n",
      "\n",
      "          preprocessor preprocessor_params         run_date  \\\n",
      "0  SimplePreprocessing                  {}  200514_21-34-52   \n",
      "1  SimplePreprocessing                  {}  200514_21-34-52   \n",
      "\n",
      "            segmentor               segmentor_params        strategy  \n",
      "0  FixedSlidingWindow  {'size': 30.0, 'shift': 30.0}  SimpleStrategy  \n",
      "1  FixedSlidingWindow  {'size': 30.0, 'shift': 30.0}  SimpleStrategy  \n",
      "\n",
      "[2 rows x 28 columns]\n",
      "File 200514_21-34-52-Home1 can not import error \n"
     ]
    },
    {
     "name": "stderr",
     "output_type": "stream",
     "text": [
      "name 'logger' is not defined\n",
      "Traceback (most recent call last):\n",
      "  File \"<ipython-input-6-007a2552b913>\", line 24, in get_my_eval\n",
      "    logger.warn('File %s can not import'%item)\n",
      "NameError: name 'logger' is not defined\n"
     ]
    },
    {
     "ename": "KeyboardInterrupt",
     "evalue": "",
     "output_type": "error",
     "traceback": [
      "\u001b[0;31m---------------------------------------------------------------------------\u001b[0m",
      "\u001b[0;31mKeyboardInterrupt\u001b[0m                         Traceback (most recent call last)",
      "\u001b[0;32m<ipython-input-6-007a2552b913>\u001b[0m in \u001b[0;36m<module>\u001b[0;34m\u001b[0m\n\u001b[1;32m     50\u001b[0m \u001b[0;34m\u001b[0m\u001b[0m\n\u001b[1;32m     51\u001b[0m \u001b[0;34m\u001b[0m\u001b[0m\n\u001b[0;32m---> 52\u001b[0;31m \u001b[0mdataset\u001b[0m\u001b[0;34m,\u001b[0m\u001b[0mmyevalres\u001b[0m\u001b[0;34m=\u001b[0m\u001b[0mget_my_eval\u001b[0m\u001b[0;34m(\u001b[0m\u001b[0;34m)\u001b[0m\u001b[0;34m\u001b[0m\u001b[0;34m\u001b[0m\u001b[0m\n\u001b[0m\u001b[1;32m     53\u001b[0m \u001b[0mvs\u001b[0m\u001b[0;34m.\u001b[0m\u001b[0mplot_per_act\u001b[0m\u001b[0;34m(\u001b[0m\u001b[0mdataset\u001b[0m\u001b[0;34m,\u001b[0m\u001b[0mmyevalres\u001b[0m\u001b[0;34m)\u001b[0m\u001b[0;34m\u001b[0m\u001b[0;34m\u001b[0m\u001b[0m\n",
      "\u001b[0;32m<ipython-input-6-007a2552b913>\u001b[0m in \u001b[0;36mget_my_eval\u001b[0;34m(data_dscr, reqinfo, hide)\u001b[0m\n\u001b[1;32m     18\u001b[0m         \u001b[0;32mif\u001b[0m \u001b[0;32mnot\u001b[0m \u001b[0;34m(\u001b[0m\u001b[0mdata_dscr\u001b[0m \u001b[0;32min\u001b[0m \u001b[0mitem\u001b[0m\u001b[0;34m)\u001b[0m\u001b[0;34m:\u001b[0m\u001b[0;32mcontinue\u001b[0m\u001b[0;34m\u001b[0m\u001b[0;34m\u001b[0m\u001b[0m\n\u001b[1;32m     19\u001b[0m         \u001b[0;32mtry\u001b[0m\u001b[0;34m:\u001b[0m\u001b[0;34m\u001b[0m\u001b[0;34m\u001b[0m\u001b[0m\n\u001b[0;32m---> 20\u001b[0;31m             \u001b[0mres\u001b[0m\u001b[0;34m=\u001b[0m\u001b[0mutils\u001b[0m\u001b[0;34m.\u001b[0m\u001b[0mloadState\u001b[0m\u001b[0;34m(\u001b[0m\u001b[0mitem\u001b[0m\u001b[0;34m,\u001b[0m\u001b[0;34m'runtable'\u001b[0m\u001b[0;34m)\u001b[0m\u001b[0;34m\u001b[0m\u001b[0;34m\u001b[0m\u001b[0m\n\u001b[0m\u001b[1;32m     21\u001b[0m             \u001b[0mprint\u001b[0m\u001b[0;34m(\u001b[0m\u001b[0mres\u001b[0m\u001b[0;34m)\u001b[0m\u001b[0;34m\u001b[0m\u001b[0;34m\u001b[0m\u001b[0m\n\u001b[1;32m     22\u001b[0m             \u001b[0;32mif\u001b[0m\u001b[0;34m(\u001b[0m\u001b[0mlen\u001b[0m\u001b[0;34m(\u001b[0m\u001b[0mres\u001b[0m\u001b[0;34m)\u001b[0m\u001b[0;34m!=\u001b[0m\u001b[0;36m3\u001b[0m\u001b[0;34m)\u001b[0m\u001b[0;34m:\u001b[0m\u001b[0;34m\u001b[0m\u001b[0;34m\u001b[0m\u001b[0m\n",
      "\u001b[0;32m/workspace/UnifiedAR/general/utils.py\u001b[0m in \u001b[0;36mloadState\u001b[0;34m(file, name, raiseException)\u001b[0m\n\u001b[1;32m    160\u001b[0m                 \u001b[0mos\u001b[0m\u001b[0;34m.\u001b[0m\u001b[0mremove\u001b[0m\u001b[0;34m(\u001b[0m\u001b[0mpklfile\u001b[0m\u001b[0;34m)\u001b[0m\u001b[0;34m\u001b[0m\u001b[0;34m\u001b[0m\u001b[0m\n\u001b[1;32m    161\u001b[0m                 \u001b[0;32mreturn\u001b[0m \u001b[0mres\u001b[0m\u001b[0;34m\u001b[0m\u001b[0;34m\u001b[0m\u001b[0m\n\u001b[0;32m--> 162\u001b[0;31m         \u001b[0;32mreturn\u001b[0m \u001b[0mcompress_pickle\u001b[0m\u001b[0;34m.\u001b[0m\u001b[0mload\u001b[0m\u001b[0;34m(\u001b[0m\u001b[0mpklfile\u001b[0m\u001b[0;34m+\u001b[0m\u001b[0;34m'.lz4'\u001b[0m\u001b[0;34m)\u001b[0m\u001b[0;34m\u001b[0m\u001b[0;34m\u001b[0m\u001b[0m\n\u001b[0m\u001b[1;32m    163\u001b[0m     \u001b[0;32mexcept\u001b[0m\u001b[0;34m:\u001b[0m\u001b[0;34m\u001b[0m\u001b[0;34m\u001b[0m\u001b[0m\n\u001b[1;32m    164\u001b[0m         \u001b[0;32mif\u001b[0m\u001b[0;34m(\u001b[0m\u001b[0mraiseException\u001b[0m\u001b[0;34m)\u001b[0m\u001b[0;34m:\u001b[0m\u001b[0;34m\u001b[0m\u001b[0;34m\u001b[0m\u001b[0m\n",
      "\u001b[0;32m/opt/conda/lib/python3.6/site-packages/compress_pickle/compress_pickle.py\u001b[0m in \u001b[0;36mload\u001b[0;34m(path, compression, mode, fix_imports, encoding, errors, buffers, arcname, set_default_extension, unhandled_extensions, **kwargs)\u001b[0m\n\u001b[1;32m    339\u001b[0m                 \u001b[0merrors\u001b[0m\u001b[0;34m=\u001b[0m\u001b[0merrors\u001b[0m\u001b[0;34m,\u001b[0m\u001b[0;34m\u001b[0m\u001b[0;34m\u001b[0m\u001b[0m\n\u001b[1;32m    340\u001b[0m                 \u001b[0mfix_imports\u001b[0m\u001b[0;34m=\u001b[0m\u001b[0mfix_imports\u001b[0m\u001b[0;34m,\u001b[0m\u001b[0;34m\u001b[0m\u001b[0;34m\u001b[0m\u001b[0m\n\u001b[0;32m--> 341\u001b[0;31m                 \u001b[0;34m**\u001b[0m\u001b[0mversion_dependent_kwargs\u001b[0m\u001b[0;34m,\u001b[0m\u001b[0;34m\u001b[0m\u001b[0;34m\u001b[0m\u001b[0m\n\u001b[0m\u001b[1;32m    342\u001b[0m             )\n\u001b[1;32m    343\u001b[0m         \u001b[0;32mfinally\u001b[0m\u001b[0;34m:\u001b[0m\u001b[0;34m\u001b[0m\u001b[0;34m\u001b[0m\u001b[0m\n",
      "\u001b[0;32m/opt/conda/lib/python3.6/site-packages/intervaltree/intervaltree.py\u001b[0m in \u001b[0;36m__init__\u001b[0;34m(self, intervals)\u001b[0m\n\u001b[1;32m    265\u001b[0m                 )\n\u001b[1;32m    266\u001b[0m         \u001b[0mself\u001b[0m\u001b[0;34m.\u001b[0m\u001b[0mall_intervals\u001b[0m \u001b[0;34m=\u001b[0m \u001b[0mintervals\u001b[0m\u001b[0;34m\u001b[0m\u001b[0;34m\u001b[0m\u001b[0m\n\u001b[0;32m--> 267\u001b[0;31m         \u001b[0mself\u001b[0m\u001b[0;34m.\u001b[0m\u001b[0mtop_node\u001b[0m \u001b[0;34m=\u001b[0m \u001b[0mNode\u001b[0m\u001b[0;34m.\u001b[0m\u001b[0mfrom_intervals\u001b[0m\u001b[0;34m(\u001b[0m\u001b[0mself\u001b[0m\u001b[0;34m.\u001b[0m\u001b[0mall_intervals\u001b[0m\u001b[0;34m)\u001b[0m\u001b[0;34m\u001b[0m\u001b[0;34m\u001b[0m\u001b[0m\n\u001b[0m\u001b[1;32m    268\u001b[0m         \u001b[0mself\u001b[0m\u001b[0;34m.\u001b[0m\u001b[0mboundary_table\u001b[0m \u001b[0;34m=\u001b[0m \u001b[0mSortedDict\u001b[0m\u001b[0;34m(\u001b[0m\u001b[0;34m)\u001b[0m\u001b[0;34m\u001b[0m\u001b[0;34m\u001b[0m\u001b[0m\n\u001b[1;32m    269\u001b[0m         \u001b[0;32mfor\u001b[0m \u001b[0miv\u001b[0m \u001b[0;32min\u001b[0m \u001b[0mself\u001b[0m\u001b[0;34m.\u001b[0m\u001b[0mall_intervals\u001b[0m\u001b[0;34m:\u001b[0m\u001b[0;34m\u001b[0m\u001b[0;34m\u001b[0m\u001b[0m\n",
      "\u001b[0;32m/opt/conda/lib/python3.6/site-packages/intervaltree/node.py\u001b[0m in \u001b[0;36mfrom_intervals\u001b[0;34m(cls, intervals)\u001b[0m\n\u001b[1;32m     72\u001b[0m         \u001b[0;32mif\u001b[0m \u001b[0;32mnot\u001b[0m \u001b[0mintervals\u001b[0m\u001b[0;34m:\u001b[0m\u001b[0;34m\u001b[0m\u001b[0;34m\u001b[0m\u001b[0m\n\u001b[1;32m     73\u001b[0m             \u001b[0;32mreturn\u001b[0m \u001b[0;32mNone\u001b[0m\u001b[0;34m\u001b[0m\u001b[0;34m\u001b[0m\u001b[0m\n\u001b[0;32m---> 74\u001b[0;31m         \u001b[0;32mreturn\u001b[0m \u001b[0mNode\u001b[0m\u001b[0;34m.\u001b[0m\u001b[0mfrom_sorted_intervals\u001b[0m\u001b[0;34m(\u001b[0m\u001b[0msorted\u001b[0m\u001b[0;34m(\u001b[0m\u001b[0mintervals\u001b[0m\u001b[0;34m)\u001b[0m\u001b[0;34m)\u001b[0m\u001b[0;34m\u001b[0m\u001b[0;34m\u001b[0m\u001b[0m\n\u001b[0m\u001b[1;32m     75\u001b[0m \u001b[0;34m\u001b[0m\u001b[0m\n\u001b[1;32m     76\u001b[0m     \u001b[0;34m@\u001b[0m\u001b[0mclassmethod\u001b[0m\u001b[0;34m\u001b[0m\u001b[0;34m\u001b[0m\u001b[0m\n",
      "\u001b[0;32m/opt/conda/lib/python3.6/site-packages/intervaltree/interval.py\u001b[0m in \u001b[0;36m__lt__\u001b[0;34m(self, other)\u001b[0m\n\u001b[1;32m    209\u001b[0m         \u001b[0;34m:\u001b[0m\u001b[0mrtype\u001b[0m\u001b[0;34m:\u001b[0m \u001b[0mbool\u001b[0m\u001b[0;34m\u001b[0m\u001b[0;34m\u001b[0m\u001b[0m\n\u001b[1;32m    210\u001b[0m         \"\"\"\n\u001b[0;32m--> 211\u001b[0;31m         \u001b[0;32mreturn\u001b[0m \u001b[0mself\u001b[0m\u001b[0;34m.\u001b[0m\u001b[0m__cmp__\u001b[0m\u001b[0;34m(\u001b[0m\u001b[0mother\u001b[0m\u001b[0;34m)\u001b[0m \u001b[0;34m<\u001b[0m \u001b[0;36m0\u001b[0m\u001b[0;34m\u001b[0m\u001b[0;34m\u001b[0m\u001b[0m\n\u001b[0m\u001b[1;32m    212\u001b[0m \u001b[0;34m\u001b[0m\u001b[0m\n\u001b[1;32m    213\u001b[0m     \u001b[0;32mdef\u001b[0m \u001b[0m__gt__\u001b[0m\u001b[0;34m(\u001b[0m\u001b[0mself\u001b[0m\u001b[0;34m,\u001b[0m \u001b[0mother\u001b[0m\u001b[0;34m)\u001b[0m\u001b[0;34m:\u001b[0m\u001b[0;34m\u001b[0m\u001b[0;34m\u001b[0m\u001b[0m\n",
      "\u001b[0;32m/opt/conda/lib/python3.6/site-packages/intervaltree/interval.py\u001b[0m in \u001b[0;36m__cmp__\u001b[0;34m(self, other)\u001b[0m\n\u001b[1;32m    171\u001b[0m         )\n\u001b[1;32m    172\u001b[0m \u001b[0;34m\u001b[0m\u001b[0m\n\u001b[0;32m--> 173\u001b[0;31m     \u001b[0;32mdef\u001b[0m \u001b[0m__cmp__\u001b[0m\u001b[0;34m(\u001b[0m\u001b[0mself\u001b[0m\u001b[0;34m,\u001b[0m \u001b[0mother\u001b[0m\u001b[0;34m)\u001b[0m\u001b[0;34m:\u001b[0m\u001b[0;34m\u001b[0m\u001b[0;34m\u001b[0m\u001b[0m\n\u001b[0m\u001b[1;32m    174\u001b[0m         \"\"\"\n\u001b[1;32m    175\u001b[0m         \u001b[0mTells\u001b[0m \u001b[0mwhether\u001b[0m \u001b[0mother\u001b[0m \u001b[0msorts\u001b[0m \u001b[0mbefore\u001b[0m\u001b[0;34m,\u001b[0m \u001b[0mafter\u001b[0m \u001b[0;32mor\u001b[0m \u001b[0mequal\u001b[0m \u001b[0mto\u001b[0m \u001b[0mthis\u001b[0m\u001b[0;34m\u001b[0m\u001b[0;34m\u001b[0m\u001b[0m\n",
      "\u001b[0;31mKeyboardInterrupt\u001b[0m: "
     ]
    }
   ],
   "source": [
    "%pylab inline\n",
    "pylab.rcParams['figure.figsize'] = (8, 3)\n",
    "import  general.utils as utils\n",
    "import result_analyse.resultloader\n",
    "import result_analyse.visualisation as vs\n",
    "\n",
    "from ipywidgets import interact, interactive, fixed, interact_manual\n",
    "\n",
    "def get_my_eval(data_dscr='Home1',reqinfo=[],hide=['SimpleKeras','SimpleFeatureExtraction']):\n",
    "    import os\n",
    "    import pandas as pd\n",
    "    list=os.listdir('save_data/')\n",
    "    list.sort(key=lambda f:os.path.getmtime('save_data/'+f),reverse=True)\n",
    "    result={}\n",
    "    dataset=None\n",
    "    for item in list:\n",
    "#         print(item)\n",
    "        if not (data_dscr in item):continue\n",
    "        try:\n",
    "            res=utils.loadState(item)\n",
    "            if(len(res)!=3):\n",
    "                #raise Error\n",
    "                logger.warn('File %s can not import'%item)\n",
    "                continue\n",
    "            [run_info,datasetdscr,evalres]=res\n",
    "            name=evalres[0]['test'].shortrunname.split('_')\n",
    "#             print(name)\n",
    "            name=name[1]\n",
    "            if not(datasetdscr.data_dscr==data_dscr):continue\n",
    "            \n",
    "            for r in reqinfo:\n",
    "                if not(r in evalres[0]['test'].shortrunname):\n",
    "                    #print(r)\n",
    "                    continue\n",
    "#             tbl=getRunTable(run_info,datasetdscr,evalres)\n",
    "            \n",
    "            \n",
    "            result[name]=evalres\n",
    "            dataset=datasetdscr\n",
    "            \n",
    "        except Exception as e:\n",
    "            print('File %s can not import error '%item)\n",
    "            import sys\n",
    "            import traceback\n",
    "            print(e, file=sys.stderr)\n",
    "            traceback.print_exc()\n",
    "\n",
    "    return dataset,result\n",
    "\n",
    "\n",
    "dataset,myevalres=get_my_eval()\n",
    "vs.plot_per_act(dataset,myevalres)"
   ]
  },
  {
   "cell_type": "code",
   "execution_count": 19,
   "metadata": {
    "ExecuteTime": {
     "end_time": "2020-10-25T11:29:28.042745Z",
     "start_time": "2020-10-25T11:29:00.541485Z"
    }
   },
   "outputs": [
    {
     "name": "stdout",
     "output_type": "stream",
     "text": [
      "Populating the interactive namespace from numpy and matplotlib\n",
      "200514_19-46-14-Home1 ['Probabilistic' {} 'LSTMTest' 'KHistory']\n",
      "Probabilistic\n",
      "200514_20-05-08-Home1 ['FixedEventWindow' {'size': 15, 'shift': 10} 'LSTMTest' 'KHistory']\n",
      "FixedEventWindow\n",
      "200514_20-06-24-Home1 ['FixedSlidingWindow' {'size': 30.0, 'shift': 30.0} 'LSTMTest' 'KHistory']\n",
      "FixedSlidingWindow\n",
      "200514_21-34-36-Home1 ['FixedEventWindow' {'size': 15, 'shift': 10} 'LSTMTest' 'KHistory']\n",
      "FixedEventWindow\n",
      "200514_21-34-52-Home1 ['FixedSlidingWindow' {'size': 30.0, 'shift': 30.0} 'LSTMTest' 'KHistory']\n",
      "FixedSlidingWindow\n",
      "200514_21-45-47-Home1 ['Probabilistic' {} 'LSTMTest' 'KHistory']\n",
      "Probabilistic\n",
      "200514_22-33-12-Home1 ['FixedEventWindow' {'size': 15, 'shift': 10} 'LSTMTest' 'KHistory']\n",
      "FixedEventWindow\n",
      "200514_22-33-32-Home1 ['FixedEventWindow' {'size': 15, 'shift': 10} 'LSTMTest' 'KHistory']\n",
      "FixedEventWindow\n",
      "200514_22-33-54-Home1 ['FixedSlidingWindow' {'size': 30.0, 'shift': 30.0} 'LSTMTest' 'KHistory']\n",
      "FixedSlidingWindow\n",
      "200514_22-34-11-Home1 ['FixedSlidingWindow' {'size': 30.0, 'shift': 30.0} 'LSTMTest' 'KHistory']\n",
      "FixedSlidingWindow\n",
      "200514_22-41-11-Home1 ['Probabilistic' {} 'LSTMTest' 'KHistory']\n",
      "Probabilistic\n"
     ]
    },
    {
     "ename": "KeyboardInterrupt",
     "evalue": "",
     "output_type": "error",
     "traceback": [
      "\u001b[0;31m---------------------------------------------------------------------------\u001b[0m",
      "\u001b[0;31mKeyboardInterrupt\u001b[0m                         Traceback (most recent call last)",
      "\u001b[0;32m<ipython-input-19-fb46f628fa11>\u001b[0m in \u001b[0;36m<module>\u001b[0;34m\u001b[0m\n\u001b[1;32m     62\u001b[0m \u001b[0;34m\u001b[0m\u001b[0m\n\u001b[1;32m     63\u001b[0m \u001b[0;34m\u001b[0m\u001b[0m\n\u001b[0;32m---> 64\u001b[0;31m \u001b[0mdataset\u001b[0m\u001b[0;34m,\u001b[0m\u001b[0mmyevalres\u001b[0m\u001b[0;34m=\u001b[0m\u001b[0mget_my_eval\u001b[0m\u001b[0;34m(\u001b[0m\u001b[0;34m)\u001b[0m\u001b[0;34m\u001b[0m\u001b[0;34m\u001b[0m\u001b[0m\n\u001b[0m\u001b[1;32m     65\u001b[0m \u001b[0mvs\u001b[0m\u001b[0;34m.\u001b[0m\u001b[0mplot_per_act\u001b[0m\u001b[0;34m(\u001b[0m\u001b[0mdataset\u001b[0m\u001b[0;34m,\u001b[0m\u001b[0mmyevalres\u001b[0m\u001b[0;34m)\u001b[0m\u001b[0;34m\u001b[0m\u001b[0;34m\u001b[0m\u001b[0m\n",
      "\u001b[0;32m<ipython-input-19-fb46f628fa11>\u001b[0m in \u001b[0;36mget_my_eval\u001b[0;34m(data_dscr, reqinfo, hide)\u001b[0m\n\u001b[1;32m     34\u001b[0m \u001b[0;34m\u001b[0m\u001b[0m\n\u001b[1;32m     35\u001b[0m \u001b[0;34m\u001b[0m\u001b[0m\n\u001b[0;32m---> 36\u001b[0;31m             \u001b[0mres\u001b[0m\u001b[0;34m=\u001b[0m\u001b[0mutils\u001b[0m\u001b[0;34m.\u001b[0m\u001b[0mloadState\u001b[0m\u001b[0;34m(\u001b[0m\u001b[0mitem\u001b[0m\u001b[0;34m)\u001b[0m\u001b[0;34m\u001b[0m\u001b[0;34m\u001b[0m\u001b[0m\n\u001b[0m\u001b[1;32m     37\u001b[0m \u001b[0;34m\u001b[0m\u001b[0m\n\u001b[1;32m     38\u001b[0m             \u001b[0;32mif\u001b[0m\u001b[0;34m(\u001b[0m\u001b[0mlen\u001b[0m\u001b[0;34m(\u001b[0m\u001b[0mres\u001b[0m\u001b[0;34m)\u001b[0m\u001b[0;34m!=\u001b[0m\u001b[0;36m3\u001b[0m\u001b[0;34m)\u001b[0m\u001b[0;34m:\u001b[0m\u001b[0;34m\u001b[0m\u001b[0;34m\u001b[0m\u001b[0m\n",
      "\u001b[0;32m/workspace/UnifiedAR/general/utils.py\u001b[0m in \u001b[0;36mloadState\u001b[0;34m(file, name, raiseException)\u001b[0m\n\u001b[1;32m    160\u001b[0m                 \u001b[0mos\u001b[0m\u001b[0;34m.\u001b[0m\u001b[0mremove\u001b[0m\u001b[0;34m(\u001b[0m\u001b[0mpklfile\u001b[0m\u001b[0;34m)\u001b[0m\u001b[0;34m\u001b[0m\u001b[0;34m\u001b[0m\u001b[0m\n\u001b[1;32m    161\u001b[0m                 \u001b[0;32mreturn\u001b[0m \u001b[0mres\u001b[0m\u001b[0;34m\u001b[0m\u001b[0;34m\u001b[0m\u001b[0m\n\u001b[0;32m--> 162\u001b[0;31m         \u001b[0;32mreturn\u001b[0m \u001b[0mcompress_pickle\u001b[0m\u001b[0;34m.\u001b[0m\u001b[0mload\u001b[0m\u001b[0;34m(\u001b[0m\u001b[0mpklfile\u001b[0m\u001b[0;34m+\u001b[0m\u001b[0;34m'.lz4'\u001b[0m\u001b[0;34m)\u001b[0m\u001b[0;34m\u001b[0m\u001b[0;34m\u001b[0m\u001b[0m\n\u001b[0m\u001b[1;32m    163\u001b[0m     \u001b[0;32mexcept\u001b[0m\u001b[0;34m:\u001b[0m\u001b[0;34m\u001b[0m\u001b[0;34m\u001b[0m\u001b[0m\n\u001b[1;32m    164\u001b[0m         \u001b[0;32mif\u001b[0m\u001b[0;34m(\u001b[0m\u001b[0mraiseException\u001b[0m\u001b[0;34m)\u001b[0m\u001b[0;34m:\u001b[0m\u001b[0;34m\u001b[0m\u001b[0;34m\u001b[0m\u001b[0m\n",
      "\u001b[0;32m/opt/conda/lib/python3.6/site-packages/compress_pickle/compress_pickle.py\u001b[0m in \u001b[0;36mload\u001b[0;34m(path, compression, mode, fix_imports, encoding, errors, buffers, arcname, set_default_extension, unhandled_extensions, **kwargs)\u001b[0m\n\u001b[1;32m    339\u001b[0m                 \u001b[0merrors\u001b[0m\u001b[0;34m=\u001b[0m\u001b[0merrors\u001b[0m\u001b[0;34m,\u001b[0m\u001b[0;34m\u001b[0m\u001b[0;34m\u001b[0m\u001b[0m\n\u001b[1;32m    340\u001b[0m                 \u001b[0mfix_imports\u001b[0m\u001b[0;34m=\u001b[0m\u001b[0mfix_imports\u001b[0m\u001b[0;34m,\u001b[0m\u001b[0;34m\u001b[0m\u001b[0;34m\u001b[0m\u001b[0m\n\u001b[0;32m--> 341\u001b[0;31m                 \u001b[0;34m**\u001b[0m\u001b[0mversion_dependent_kwargs\u001b[0m\u001b[0;34m,\u001b[0m\u001b[0;34m\u001b[0m\u001b[0;34m\u001b[0m\u001b[0m\n\u001b[0m\u001b[1;32m    342\u001b[0m             )\n\u001b[1;32m    343\u001b[0m         \u001b[0;32mfinally\u001b[0m\u001b[0;34m:\u001b[0m\u001b[0;34m\u001b[0m\u001b[0;34m\u001b[0m\u001b[0m\n",
      "\u001b[0;32mpandas/_libs/tslibs/timestamps.pyx\u001b[0m in \u001b[0;36mpandas._libs.tslibs.timestamps.Timestamp.__new__\u001b[0;34m()\u001b[0m\n",
      "\u001b[0;32mpandas/_libs/tslibs/conversion.pyx\u001b[0m in \u001b[0;36mpandas._libs.tslibs.conversion.convert_to_tsobject\u001b[0;34m()\u001b[0m\n",
      "\u001b[0;31mKeyboardInterrupt\u001b[0m: "
     ]
    }
   ],
   "source": [
    "%pylab inline\n",
    "pylab.rcParams['figure.figsize'] = (8, 3)\n",
    "import  general.utils as utils\n",
    "import result_analyse.resultloader\n",
    "import result_analyse.visualisation as vs\n",
    "\n",
    "from ipywidgets import interact, interactive, fixed, interact_manual\n",
    "\n",
    "def get_my_eval(data_dscr='Home1',reqinfo=[],hide=['SimpleKeras','SimpleFeatureExtraction']):\n",
    "    import os\n",
    "    import pandas as pd\n",
    "    list=os.listdir('save_data/')\n",
    "    list.sort(key=lambda f:os.path.getmtime('save_data/'+f),reverse=True)\n",
    "    result={}\n",
    "    dataset=None\n",
    "    for item in list:\n",
    "        \n",
    "        if not (data_dscr in item):continue\n",
    "        try:\n",
    "            runtable=utils.loadState(item,'runtable')\n",
    "            \n",
    "            if not(data_dscr in item):continue\n",
    "            \n",
    "            for r in reqinfo:\n",
    "                if not(r in runtable.iloc[0].loc['runname']):\n",
    "                    #print(r)\n",
    "                    continue\n",
    "                    \n",
    "            for r in hide:\n",
    "                if r in runtable.iloc[0].loc['runname']:\n",
    "                    #print(r)\n",
    "                    continue\n",
    "#             tbl=getRunTable(run_info,datasetdscr,evalres)\n",
    "            \n",
    "            \n",
    "            res=utils.loadState(item)\n",
    "            \n",
    "            if(len(res)!=3):\n",
    "                #raise Error\n",
    "                logger.warn('File %s can not import'%item)\n",
    "                continue\n",
    "            [run_info,datasetdscr,evalres]=res\n",
    "            \n",
    "            print(item,(runtable.iloc[0].loc[['segmentor','segmentor_params','classifier','featureExtractor']].values))\n",
    "#             print(item,(runtable.iloc[0].loc[['segmentor','segmentor_params','classifier','classifier_params','combiner','featureExtractor','activityFetcher','strategy']].values))\n",
    "            \n",
    "            name=evalres[0]['test'].shortrunname.split('_')\n",
    "\n",
    "            name=name[1]\n",
    "            result[name]=evalres\n",
    "            dataset=datasetdscr\n",
    "                    \n",
    "        except Exception as e:\n",
    "            print('File %s can not import error '%item)\n",
    "            import sys\n",
    "            import traceback\n",
    "            print(e, file=sys.stderr)\n",
    "            traceback.print_exc()\n",
    "\n",
    "    return dataset,result\n",
    "\n",
    "\n",
    "dataset,myevalres=get_my_eval()\n",
    "vs.plot_per_act(dataset,myevalres)"
   ]
  },
  {
   "cell_type": "code",
   "execution_count": 2,
   "metadata": {
    "ExecuteTime": {
     "end_time": "2020-10-26T23:00:08.561831Z",
     "start_time": "2020-10-26T23:00:06.988994Z"
    }
   },
   "outputs": [
    {
     "name": "stdout",
     "output_type": "stream",
     "text": [
      "Populating the interactive namespace from numpy and matplotlib\n",
      "Utils loaded successfully!!\n",
      "metric  ==>  ['classical', 'event_confusion_matrix2', 'CMbasedMetric', 'event_confusion_matrix', 'MyMetric', 'metric_abstract', 'EventBasedMetric']\n"
     ]
    },
    {
     "data": {
      "application/vnd.jupyter.widget-view+json": {
       "model_id": "67139d88a27649f8b95f316a324518b9",
       "version_major": 2,
       "version_minor": 0
      },
      "text/plain": [
       "interactive(children=(Dropdown(description='dataset', options=('Home1', 'Home2', 'A4H', 'VanKasteren'), value=…"
      ]
     },
     "metadata": {},
     "output_type": "display_data"
    }
   ],
   "source": [
    "%pylab inline\n",
    "pylab.rcParams['figure.figsize'] = (8, 3)\n",
    "import  general.utils as utils\n",
    "import result_analyse.resultloader\n",
    "import result_analyse.visualisation as vs\n",
    "\n",
    "from ipywidgets import interact, interactive, fixed, interact_manual,widgets,Button, Layout\n",
    "\n",
    "        \n",
    "\n",
    "\n",
    "@interact\n",
    "def datasets(dataset=['Home1','Home2','A4H','VanKasteren']):\n",
    "    @interact_manual\n",
    "    def compare(files=widgets.SelectMultiple(options=result_analyse.resultloader.get_runs_summary(dataset), description='Files',           layout=Layout(width='100%', height='180px')),titles=\"comma seperated\"):\n",
    "        print(files)\n",
    "        result={}\n",
    "        dataset=None\n",
    "\n",
    "        for i, file in enumerate(files):\n",
    "            \n",
    "            res=utils.loadState(file)\n",
    "            \n",
    "            if(len(res)!=3):\n",
    "                #raise Error\n",
    "                logger.warn('File %s can not import'%item)\n",
    "                continue\n",
    "            [run_info,datasetdscr,evalres]=res\n",
    "            runtable=result_analyse.resultloader.load_run_table(file)\n",
    "            print(file,(runtable.iloc[0].loc[['segmentor','segmentor_params','classifier','featureExtractor']].values))\n",
    "#             print(item,(runtable.iloc[0].loc[['segmentor','segmentor_params','classifier','classifier_params','combiner','featureExtractor','activityFetcher','strategy']].values))\n",
    "            \n",
    "            name=evalres[0]['test'].shortrunname.split('_')\n",
    "\n",
    "            name=name[1]\n",
    "            result[name]=evalres\n",
    "            dataset=datasetdscr\n",
    "        vs.plot_per_act(dataset,result)        "
   ]
  },
  {
   "cell_type": "code",
   "execution_count": 1,
   "metadata": {
    "ExecuteTime": {
     "end_time": "2020-10-26T23:00:03.277940Z",
     "start_time": "2020-10-26T23:00:03.227347Z"
    }
   },
   "outputs": [
    {
     "ename": "NameError",
     "evalue": "name 'a' is not defined",
     "output_type": "error",
     "traceback": [
      "\u001b[0;31m---------------------------------------------------------------------------\u001b[0m",
      "\u001b[0;31mNameError\u001b[0m                                 Traceback (most recent call last)",
      "\u001b[0;32m<ipython-input-1-f07f3af24750>\u001b[0m in \u001b[0;36m<module>\u001b[0;34m\u001b[0m\n\u001b[0;32m----> 1\u001b[0;31m \u001b[0;34m[\u001b[0m\u001b[0;34m'%dx'\u001b[0m\u001b[0;34m%\u001b[0m\u001b[0mx\u001b[0m \u001b[0;32mfor\u001b[0m \u001b[0mx\u001b[0m \u001b[0;32min\u001b[0m \u001b[0ma\u001b[0m\u001b[0;34m]\u001b[0m\u001b[0;34m\u001b[0m\u001b[0;34m\u001b[0m\u001b[0m\n\u001b[0m",
      "\u001b[0;31mNameError\u001b[0m: name 'a' is not defined"
     ]
    }
   ],
   "source": [
    "['%dx'%x for x in a]"
   ]
  },
  {
   "cell_type": "code",
   "execution_count": 2,
   "metadata": {
    "ExecuteTime": {
     "end_time": "2020-10-26T22:14:36.021941Z",
     "start_time": "2020-10-26T22:14:32.236045Z"
    }
   },
   "outputs": [
    {
     "name": "stdout",
     "output_type": "stream",
     "text": [
      "Utils loaded successfully!!\n"
     ]
    }
   ],
   "source": [
    "from general import utils\n",
    "a=utils.loadState('201026_13-55-50-Home2')"
   ]
  },
  {
   "cell_type": "code",
   "execution_count": 3,
   "metadata": {
    "ExecuteTime": {
     "end_time": "2020-10-26T19:48:47.073924Z",
     "start_time": "2020-10-26T19:48:44.916484Z"
    }
   },
   "outputs": [
    {
     "data": {
      "text/plain": [
       "array([[0.00000000e+00, 4.30945333e+01, 2.31619350e+02, 4.43659883e+02,\n",
       "        2.11564904e+04, 1.69223133e+02, 2.31561755e+03, 1.73299883e+02,\n",
       "        2.06338300e+02, 3.18754765e+03, 5.18124533e+02, 7.87602050e+02],\n",
       "       [1.78826667e+00, 1.55569033e+02, 6.82343333e+00, 8.41400000e-01,\n",
       "        0.00000000e+00, 6.01500000e-02, 0.00000000e+00, 0.00000000e+00,\n",
       "        1.31148667e+01, 6.82033333e-01, 0.00000000e+00, 0.00000000e+00],\n",
       "       [7.03900000e-01, 0.00000000e+00, 1.34340517e+02, 0.00000000e+00,\n",
       "        0.00000000e+00, 0.00000000e+00, 0.00000000e+00, 8.09100000e-01,\n",
       "        3.51010500e+01, 2.58833333e-02, 2.78890167e+01, 1.45781667e+00],\n",
       "       [1.00992333e+01, 0.00000000e+00, 0.00000000e+00, 5.05843450e+02,\n",
       "        0.00000000e+00, 5.20950000e-01, 1.40883333e-01, 2.07266667e+00,\n",
       "        0.00000000e+00, 7.08448683e+02, 0.00000000e+00, 9.63023500e+01],\n",
       "       [1.37500000e-01, 0.00000000e+00, 0.00000000e+00, 0.00000000e+00,\n",
       "        2.40072317e+02, 0.00000000e+00, 3.41089167e+01, 0.00000000e+00,\n",
       "        0.00000000e+00, 0.00000000e+00, 0.00000000e+00, 1.92183333e-01],\n",
       "       [4.55651667e+00, 0.00000000e+00, 9.17433333e-01, 1.49555000e+00,\n",
       "        1.21586667e+00, 1.45063667e+01, 7.02341000e+01, 1.12836167e+01,\n",
       "        1.04098333e+00, 4.97708333e+00, 2.47785000e+00, 1.75093833e+01],\n",
       "       [0.00000000e+00, 0.00000000e+00, 0.00000000e+00, 0.00000000e+00,\n",
       "        2.44671667e+00, 1.63033333e-01, 2.98737167e+01, 0.00000000e+00,\n",
       "        0.00000000e+00, 0.00000000e+00, 0.00000000e+00, 9.47133333e-01],\n",
       "       [2.20656000e+01, 0.00000000e+00, 8.21351667e+00, 4.06428167e+01,\n",
       "        2.97208333e+01, 4.86390333e+01, 4.02470000e+00, 2.14063233e+02,\n",
       "        6.81278333e+00, 1.65794533e+02, 0.00000000e+00, 9.79629000e+01],\n",
       "       [3.59923333e+00, 1.86185833e+01, 2.63857133e+02, 6.18970000e+00,\n",
       "        1.03151667e+00, 4.79790000e+00, 2.00078333e+00, 1.47681667e+00,\n",
       "        3.66358767e+02, 7.33776667e+00, 2.52073000e+01, 1.23963667e+01],\n",
       "       [4.71318600e+02, 0.00000000e+00, 7.00500000e-02, 3.73958333e+00,\n",
       "        6.58833333e-02, 0.00000000e+00, 3.94263000e+01, 1.86466667e-01,\n",
       "        5.28916667e-01, 1.51668123e+03, 2.76828650e+02, 1.30315167e+01],\n",
       "       [7.69896667e+00, 0.00000000e+00, 8.53624667e+01, 8.05200000e-01,\n",
       "        6.24718833e+01, 0.00000000e+00, 0.00000000e+00, 0.00000000e+00,\n",
       "        4.09661667e+00, 7.69747333e+01, 4.97510342e+03, 3.21850000e+00],\n",
       "       [7.57833333e-02, 0.00000000e+00, 0.00000000e+00, 0.00000000e+00,\n",
       "        0.00000000e+00, 5.92200000e-01, 0.00000000e+00, 3.64521167e+01,\n",
       "        0.00000000e+00, 0.00000000e+00, 0.00000000e+00, 3.72856833e+01]])"
      ]
     },
     "execution_count": 3,
     "metadata": {},
     "output_type": "execute_result"
    }
   ],
   "source": [
    "tdata=a[2][0]['test']\n",
    "from metric.CMbasedMetric import CMbasedMetric\n",
    "from metric.event_confusion_matrix import event_confusion_matrix\n",
    "\n",
    "event_confusion_matrix(tdata.Sdata.a_events,tdata.pred_events,a[1].activities)"
   ]
  }
 ],
 "metadata": {
  "kernelspec": {
   "display_name": "Python 3",
   "language": "python",
   "name": "python3"
  },
  "language_info": {
   "codemirror_mode": {
    "name": "ipython",
    "version": 3
   },
   "file_extension": ".py",
   "mimetype": "text/x-python",
   "name": "python",
   "nbconvert_exporter": "python",
   "pygments_lexer": "ipython3",
   "version": "3.6.9"
  },
  "toc": {
   "base_numbering": 1,
   "nav_menu": {},
   "number_sections": true,
   "sideBar": true,
   "skip_h1_title": false,
   "title_cell": "Table of Contents",
   "title_sidebar": "Contents",
   "toc_cell": false,
   "toc_position": {},
   "toc_section_display": true,
   "toc_window_display": false
  },
  "varInspector": {
   "cols": {
    "lenName": 16,
    "lenType": 16,
    "lenVar": 40
   },
   "kernels_config": {
    "python": {
     "delete_cmd_postfix": "",
     "delete_cmd_prefix": "del ",
     "library": "var_list.py",
     "varRefreshCmd": "print(var_dic_list())"
    },
    "r": {
     "delete_cmd_postfix": ") ",
     "delete_cmd_prefix": "rm(",
     "library": "var_list.r",
     "varRefreshCmd": "cat(var_dic_list()) "
    }
   },
   "types_to_exclude": [
    "module",
    "function",
    "builtin_function_or_method",
    "instance",
    "_Feature"
   ],
   "window_display": false
  }
 },
 "nbformat": 4,
 "nbformat_minor": 4
}
