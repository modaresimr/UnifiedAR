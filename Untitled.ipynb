{
 "cells": [
  {
   "cell_type": "code",
   "execution_count": 1,
   "metadata": {
    "ExecuteTime": {
     "end_time": "2021-11-15T17:11:24.397842Z",
     "start_time": "2021-11-15T17:11:22.897500Z"
    }
   },
   "outputs": [],
   "source": [
    "import general.utils as utils\n",
    "utils.convert2SED('0-HHMM--Home2')"
   ]
  },
  {
   "cell_type": "code",
   "execution_count": 8,
   "metadata": {
    "ExecuteTime": {
     "end_time": "2021-11-12T16:57:21.116115Z",
     "start_time": "2021-11-12T16:57:21.112202Z"
    }
   },
   "outputs": [
    {
     "data": {
      "text/plain": [
       "Timedelta('17 days 06:21:24')"
      ]
     },
     "execution_count": 8,
     "metadata": {},
     "output_type": "execute_result"
    }
   ],
   "source": []
  },
  {
   "cell_type": "code",
   "execution_count": null,
   "metadata": {
    "ExecuteTime": {
     "end_time": "2021-11-12T14:02:18.349934Z",
     "start_time": "2021-11-12T14:02:16.860Z"
    }
   },
   "outputs": [],
   "source": [
    "from ipywidgets import interact, interactive, fixed, interact_manual,widgets\n",
    "import result_analyse.resultloader\n",
    "import result_analyse.kfold_analyse as an\n",
    "import metric.MyMetric as mymetric\n",
    "import general.utils as utils\n",
    "import result_analyse.visualisation as vs\n",
    "from ipywidgets import Button, Layout\n",
    "\n",
    "@interact\n",
    "def datasets(dataset=['Home1','Home2','A4H','VanKasteren']):\n",
    "    @interact_manual\n",
    "    def compare(files=widgets.SelectMultiple(options=result_analyse.resultloader.get_runs_summary(dataset), description='Files',           layout=Layout(width='100%', height='180px')),titles=\"comma seperated\"):\n",
    "        print(files)\n",
    "        run_info={}\n",
    "        dataset={}\n",
    "        evalres={}\n",
    "        res={}\n",
    "        titles=titles.split(',')\n",
    "        for i, file in enumerate(files):\n",
    "            print(i,file)\n",
    "            t=titles[i]\n",
    "            run_info[t],dataset[t],evalres[t]=utils.loadState(file)\n",
    "            print(evalres[t])\n",
    "            for i in evalres[t]:\n",
    "                evalres[t][i].Sdata=None\n",
    "                \n",
    "            dataset[t].sensor_events=None\n",
    "            res[t]=an.mergeEvals(dataset[t],evalres[t],mymetric)\n",
    "        res={t:res[t] for t in sorted(res.keys())}\n",
    "        vs.plotJoinMetric(res,[k for k in res[t]],dataset[t].activities_map)"
   ]
  },
  {
   "cell_type": "code",
   "execution_count": null,
   "metadata": {
    "ExecuteTime": {
     "end_time": "2021-11-12T14:02:18.350606Z",
     "start_time": "2021-11-12T14:02:16.862Z"
    }
   },
   "outputs": [],
   "source": [
    "import result_analyse.resultloader\n",
    "import general.utils as utils\n",
    "\n",
    "for file in result_analyse.resultloader.get_runs():\n",
    "    summary=utils.loadState(file[1],'summary')\n",
    "    #print(summary['folds'][0]['quality']['f1'])\n"
   ]
  },
  {
   "cell_type": "code",
   "execution_count": null,
   "metadata": {
    "ExecuteTime": {
     "end_time": "2021-11-12T14:02:18.351494Z",
     "start_time": "2021-11-12T14:02:16.864Z"
    }
   },
   "outputs": [],
   "source": [
    "import result_analyse.resultloader\n",
    "import general.utils as utils\n",
    "\n",
    "for file in result_analyse.resultloader.get_runs():\n",
    "    try:\n",
    "        utils.loadState(file[1],'summary')\n",
    "    except:\n",
    "        try:\n",
    "            run_info,dataset,evalres=utils.loadState(file[1])\n",
    "            print(file[1])\n",
    "            if(type(evalres)==type([])):\n",
    "                for k in range(len(evalres)):\n",
    "                    if('shortrunname' not in evalres[k].__dict__):\n",
    "                        evalres[k].shortrunname='A'\n",
    "                        evalres[k].functions={}\n",
    "                utils.saveState([run_info,dataset,{k:evalres[k] for k in range(len(evalres))}],file[1])\n",
    "                run_info,dataset,evalres=utils.loadState(file[1])\n",
    "\n",
    "            compressdata={'run_info':run_info, 'folds':{k:{'quality':evalres[k].quality,'shortrunname':evalres[k].shortrunname,'functions':evalres[k].functions if 'functions'in evalres[k].__dict__ else {}} for k in evalres}}\n",
    "            utils.saveState(compressdata,file[1],'summary')\n",
    "        except:\n",
    "            print('error in',file[1])"
   ]
  },
  {
   "cell_type": "code",
   "execution_count": null,
   "metadata": {
    "ExecuteTime": {
     "end_time": "2021-11-12T14:02:18.352465Z",
     "start_time": "2021-11-12T14:02:16.870Z"
    }
   },
   "outputs": [],
   "source": [
    "import result_analyse.kfold_analyse as an\n",
    "import metric.MyMetric\n",
    "import general.utils as utils\n",
    "import result_analyse.visualisation as vs\n",
    "# run_info2,dataset2,evalres2=utils.loadState('200211_12-39-09-Home1')\n",
    "# run_info,dataset,evalres=utils.loadState('asghari-Home2')\n",
    "#utils.saveState([run_info,dataset,{0:evalres[0]}],'asghari-Home2')\n",
    "# res=an.mergeEvals(dataset,evalres,metric.MyMetric)\n",
    "# res2=an.mergeEvals(dataset,evalres2,metric.MyMetric)\n",
    "\n",
    "#vs.plotMyMetric(res,[k for k in res],dataset.activities_map)\n",
    "#vs.plotMyMetric(res2,[k for k in res2],dataset.activities_map)\n",
    "# vs.plotJoinMetric({'My':res2,'asghari':res},[k for k in res2],dataset.activities_map)\n",
    "\n",
    "\n"
   ]
  },
  {
   "cell_type": "code",
   "execution_count": null,
   "metadata": {
    "ExecuteTime": {
     "end_time": "2020-02-29T11:28:05.385438Z",
     "start_time": "2020-02-29T11:28:05.366644Z"
    }
   },
   "outputs": [],
   "source": [
    "\n"
   ]
  },
  {
   "cell_type": "code",
   "execution_count": null,
   "metadata": {
    "ExecuteTime": {
     "end_time": "2021-11-12T14:02:18.353339Z",
     "start_time": "2021-11-12T14:02:16.873Z"
    }
   },
   "outputs": [],
   "source": [
    "import result_analyse.SpiderChart as spiderchart\n",
    "joinmetrics={'My':res2,'asghari':res}\n",
    "acts=[k for k in res2]\n",
    "actmap=dataset.activities_map\n",
    "import matplotlib.pyplot as plt\n",
    "import pandas as pd\n",
    "def plotJoinMetric(joinmetrics,acts,actmap={}):\n",
    "    acount=len(acts)\n",
    "    col=min(4,acount)        \n",
    "    row=int(np.ceil((acount)/float(col)))\n",
    "    import result_analyse.SpiderChart\n",
    "    result_analyse.SpiderChart.radar_factory(5, frame='polygon')\n",
    "    m_fig,m_ax=plt.subplots(row,col,figsize=(col*3, row*3),subplot_kw=dict(projection='radar'))\n",
    "    if type(m_ax)!=np.ndarray:\n",
    "        m_ax=np.array([m_ax])\n",
    "    m_ax=m_ax.flatten()\n",
    "    \n",
    "    \n",
    "    for i, act in enumerate(acts):\n",
    "        all=0\n",
    "        name=actmap[act] if act in actmap else act\n",
    "        print(name,\"========\")\n",
    "        for item in joinmetrics:\n",
    "            metrics=joinmetrics[item][act]\n",
    "            if('avg' in metrics):metrics=metrics['avg']\n",
    "            #plotJoinAct(dataset,real_events,pred_events,onlyAct=i)\n",
    "            df=pd.DataFrame(metrics)\n",
    "            print('average=',np.average(list(df.loc['f1'])))\n",
    "            df=df.drop(['tp','fp','fn','recall','precision'])\n",
    "            if type(all)==type(0):\n",
    "                all=df.drop(['f1'])\n",
    "            all.loc[item]=df.loc['f1']\n",
    "        spiderchart.plot(all,[0.25,.5,.75],title=name,ax=m_ax[i])\n",
    "    m_fig.tight_layout(pad=0,h_pad=-10.0, w_pad=3.0)\n",
    "\n",
    "plotJoinMetric({'My':res2,'asghari':res},[k for k in res2],dataset.activities_map)\n"
   ]
  },
  {
   "cell_type": "code",
   "execution_count": null,
   "metadata": {},
   "outputs": [],
   "source": []
  }
 ],
 "metadata": {
  "kernelspec": {
   "display_name": "Python 3",
   "language": "python",
   "name": "python3"
  },
  "language_info": {
   "codemirror_mode": {
    "name": "ipython",
    "version": 3
   },
   "file_extension": ".py",
   "mimetype": "text/x-python",
   "name": "python",
   "nbconvert_exporter": "python",
   "pygments_lexer": "ipython3",
   "version": "3.8.10"
  },
  "toc": {
   "base_numbering": 1,
   "nav_menu": {},
   "number_sections": true,
   "sideBar": true,
   "skip_h1_title": false,
   "title_cell": "Table of Contents",
   "title_sidebar": "Contents",
   "toc_cell": false,
   "toc_position": {},
   "toc_section_display": true,
   "toc_window_display": false
  },
  "varInspector": {
   "cols": {
    "lenName": 16,
    "lenType": 16,
    "lenVar": 40
   },
   "kernels_config": {
    "python": {
     "delete_cmd_postfix": "",
     "delete_cmd_prefix": "del ",
     "library": "var_list.py",
     "varRefreshCmd": "print(var_dic_list())"
    },
    "r": {
     "delete_cmd_postfix": ") ",
     "delete_cmd_prefix": "rm(",
     "library": "var_list.r",
     "varRefreshCmd": "cat(var_dic_list()) "
    }
   },
   "types_to_exclude": [
    "module",
    "function",
    "builtin_function_or_method",
    "instance",
    "_Feature"
   ],
   "window_display": false
  }
 },
 "nbformat": 4,
 "nbformat_minor": 2
}
