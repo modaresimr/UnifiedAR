{
 "cells": [
  {
   "cell_type": "code",
   "execution_count": 1,
   "metadata": {},
   "outputs": [
    {
     "name": "stdout",
     "output_type": "stream",
     "text": [
      "Populating the interactive namespace from numpy and matplotlib\n",
      "Utils loaded successfully!!\n",
      "metric  ==>  ['classical', 'CMbasedMetric', 'EventBasedMetric', 'event_confusion_matrix', 'metric_abstract', 'MyMetric']\n"
     ]
    },
    {
     "data": {
      "application/vnd.jupyter.widget-view+json": {
       "model_id": "d6777bf824424ff8a3e593b06e09ae1c",
       "version_major": 2,
       "version_minor": 0
      },
      "text/plain": [
       "interactive(children=(Dropdown(description='file', options=(('200206_23-46-58-A4H', '200206_23-46-58-A4H'), ('…"
      ]
     },
     "metadata": {},
     "output_type": "display_data"
    }
   ],
   "source": [
    "#%matplotlib widget\n",
    "%pylab inline\n",
    "pylab.rcParams['figure.figsize'] = (8, 3)\n",
    "import  general.utils as utils\n",
    "import result_analyse.resultloader\n",
    "import result_analyse.visualisation as vs\n",
    "\n",
    "from ipywidgets import interact, interactive, fixed, interact_manual,widgets\n",
    "\n",
    "import pandas as pd\n",
    "@interact\n",
    "def result_selector(file=result_analyse.resultloader.get_runs()):\n",
    "    if(file==None):return\n",
    "    print('Analysing ',file)\n",
    "    run_info,dataset,evalres=utils.loadState(file)\n",
    "    stime=dataset.activity_events.iloc[0].StartTime\n",
    "    etime=dataset.activity_events.iloc[-1].EndTime\n",
    "\n",
    "    for i in range(len(evalres)):\n",
    "            quality=evalres[i].quality\n",
    "            print('Evalution quality fold=%d is %s' % (i, quality))\n",
    "    print(len(dataset.sensor_events))\n",
    "    \n",
    "    vs.plot_CM(dataset,evalres)\n",
    "    @interact\n",
    "    def viewFold(fold= range(len(evalres))):\n",
    "        @interact\n",
    "        def view(start_date=widgets.DatePicker(value=pd.to_datetime(stime)),end_date=widgets.DatePicker(value=pd.to_datetime(etime))):\n",
    "            duration=(pd.to_datetime(start_date),pd.to_datetime(end_date))\n",
    "            real_events=vs.filterTime(evalres[fold].real_events,duration)\n",
    "            pred_events=vs.filterTime(evalres[fold].pred_events,duration)\n",
    "            vs.plotJoinAct(dataset,real_events,pred_events)\n",
    "            vs.plot_per_act(dataset,{'test':evalres})\n",
    "            @interact\n",
    "            def view2(onlyAct=[(str(i)+\" : \"+dataset.activities[i],i)for i in dataset.activities_map]):\n",
    "                print(onlyAct)\n",
    "                #vs.visualize(dataset)\n",
    "                # vs.my_result_analyse(evalres[i].real_events,evalres[i].pred_events)               \n",
    "                real_events2,pred_events2=vs.remove_gaps(real_events,pred_events,onlyAct)\n",
    "                vs.plotJoinAct(dataset,real_events2,pred_events2,onlyAct=onlyAct)\n",
    "                vs.plotMyMetric(dataset,real_events,pred_events,onlyAct=onlyAct)\n",
    "                vs.plotWardMetric(dataset,real_events,pred_events,onlyAct=onlyAct)\n",
    "\n"
   ]
  },
  {
   "cell_type": "code",
   "execution_count": null,
   "metadata": {},
   "outputs": [],
   "source": []
  },
  {
   "cell_type": "code",
   "execution_count": null,
   "metadata": {},
   "outputs": [],
   "source": []
  }
 ],
 "metadata": {
  "kernelspec": {
   "display_name": "Python 3",
   "language": "python",
   "name": "python3"
  },
  "language_info": {
   "codemirror_mode": {
    "name": "ipython",
    "version": 3
   },
   "file_extension": ".py",
   "mimetype": "text/x-python",
   "name": "python",
   "nbconvert_exporter": "python",
   "pygments_lexer": "ipython3",
   "version": "3.6.8"
  }
 },
 "nbformat": 4,
 "nbformat_minor": 4
}
