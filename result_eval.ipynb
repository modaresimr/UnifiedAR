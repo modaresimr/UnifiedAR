{
 "cells": [
  {
   "cell_type": "code",
   "execution_count": 2,
   "metadata": {
    "ExecuteTime": {
     "end_time": "2020-09-10T11:32:20.327475Z",
     "start_time": "2020-09-10T11:32:20.266655Z"
    },
    "scrolled": false
   },
   "outputs": [
    {
     "data": {
      "application/vnd.jupyter.widget-view+json": {
       "model_id": "605eafc9d7bf41e78f0d178e12dce716",
       "version_major": 2,
       "version_minor": 0
      },
      "text/plain": [
       "interactive(children=(Dropdown(description='file', options=(('testdata', 'testdata'), ('200514_19-35-59-VanKas…"
      ]
     },
     "metadata": {},
     "output_type": "display_data"
    }
   ],
   "source": [
    "%matplotlib widget\n",
    "# %pylab inline\n",
    "# %pylab widget\n",
    "# pylab.rcParams['figure.figsize'] = (8, 3)\n",
    "import  general.utils as utils\n",
    "import result_analyse.resultloader\n",
    "import result_analyse.visualisation as vs\n",
    "\n",
    "from ipywidgets import interact, interactive, fixed, interact_manual,widgets\n",
    "import numpy as np\n",
    "import pandas as pd\n",
    "@interact\n",
    "def result_selector(file=result_analyse.resultloader.get_runs()):\n",
    "    if(file==None):return\n",
    "    print('Analysing ',file)\n",
    "    run_info,dataset,evalres=utils.loadState(file)\n",
    "    stime=dataset.activity_events.iloc[0].StartTime\n",
    "    #etime=stime+np.timedelta64(1,'D')\n",
    "    etime=dataset.activity_events.iloc[-1].EndTime\n",
    "\n",
    "    for i in range(len(evalres)):\n",
    "            quality=evalres[i]['test'].quality\n",
    "            print('Evalution quality fold=%d is %s' % (i, quality))\n",
    "    print(len(dataset.sensor_events))\n",
    "    \n",
    "#     vs.plot_CM(dataset,evalres)\n",
    "    \n",
    "    @interact\n",
    "    def viewFold(fold= range(len(evalres))):\n",
    "        @interact_manual\n",
    "        def view(start_date=widgets.DatePicker(value=pd.to_datetime(stime)),end_date=widgets.DatePicker(value=pd.to_datetime(etime))):\n",
    "            duration=(pd.to_datetime(start_date),pd.to_datetime(end_date))\n",
    "            real_events=vs.filterTime(evalres[fold]['test'].real_events,duration)\n",
    "            pred_events=vs.filterTime(evalres[fold]['test'].pred_events,duration)\n",
    "            #vs.plotJoinAct(dataset,real_events,pred_events)\n",
    "            acts=[p for p in dataset.activities_map]\n",
    "            labels=[dataset.activities_map[p] for p in acts]\n",
    "            print(acts)\n",
    "            print(labels)\n",
    "            vs.plotJoinAct2(real_events,pred_events,acts,labels)\n",
    "            #vs.plot_per_act(dataset,{'test':evalres})\n",
    "            \n",
    "            from matplotlib import pyplot as plt\n",
    "            import result_analyse.SpiderChart\n",
    "            result_analyse.SpiderChart.radar_factory(5, frame='polygon')\n",
    "            acount=len(dataset.activities_map)\n",
    "            a_fig,a_ax=plt.subplots(acount-1,1,figsize=(10, acount*.25),)\n",
    "#             a_fig.tight_layout(pad=3.0)\n",
    "            col=4        \n",
    "            row=int(np.ceil((acount-1.0)/float(col)))\n",
    "            m_fig,m_ax=plt.subplots(row,col,figsize=(col*3, row*3),subplot_kw=dict(projection='radar'))\n",
    "            if type(a_ax)!=np.ndarray:\n",
    "                print('dddd',a_ax)\n",
    "                print(type(a_ax))\n",
    "                a_ax=np.array([a_ax])\n",
    "            else:\n",
    "                m_ax=m_ax.flatten()\n",
    "            for i in range(acount-1,len(m_ax)):\n",
    "                m_ax[i].set_visible(False)\n",
    "\n",
    "            for i in range(1,len(dataset.activities_map)):\n",
    "#                 real_events2,pred_events2=vs.remove_gaps(real_events,pred_events,i)\n",
    "                #real_events2,pred_events2=vs.remove_gaps(real_events,pred_events,i,max_events=10)\n",
    "                real_events2,pred_events2=real_events,pred_events\n",
    "#                 vs.plotJoinAct(dataset,real_events,pred_events,onlyAct=i,ax=a_ax[i-1])\n",
    "                try:\n",
    "#                     vs.plotJoinAct(dataset,real_events2,pred_events2,onlyAct=i,ax=a_ax[i-1])\n",
    "                    vs.plotMyMetric2(dataset,real_events2,pred_events2,onlyAct=i,ax=m_ax[i-1],debug=1,calcne=0)\n",
    "#                     vs.plotWardMetric(dataset,real_events,pred_events,onlyAct=i)\n",
    "                except:\n",
    "                    import sys\n",
    "                    import traceback\n",
    "                    print(e, file=sys.stderr)\n",
    "                    traceback.print_exc()\n",
    "\n",
    "                #    print('error in ',i)\n",
    "                #vs.plotWardMetric(dataset,real_events,pred_events,onlyAct=i)\n",
    "#             vs.plotJoinMyMetric(dataset,real_events2,pred_events2,calcne=0)\n",
    "            a_fig.show()\n",
    "            m_fig.tight_layout(pad=0,h_pad=-20.0, w_pad=3.0)\n",
    "            m_fig.show()\n",
    "                \n",
    "#             @interact\n",
    "#             def view2(onlyAct=[(str(i)+\" : \"+dataset.activities[i],i)for i in dataset.activities_map]):\n",
    "#                 print(onlyAct)\n",
    "#                 #vs.visualize(dataset)\n",
    "#                 # vs.my_result_analyse(evalres[i].real_events,evalres[i].pred_events)               \n",
    "#                 #vs.plotJoinAct(dataset,real_events,pred_events,onlyAct=onlyAct)\n",
    "#                 real_events2,pred_events2=vs.remove_gaps(real_events,pred_events,onlyAct)\n",
    "#                 vs.plotJoinAct(dataset,real_events2,pred_events2,onlyAct=onlyAct)\n",
    "#                 vs.plotMyMetric(dataset,real_events,pred_events,onlyAct=onlyAct)\n",
    "#                 vs.plotWardMetric(dataset,real_events,pred_events,onlyAct=onlyAct)\n",
    "\n"
   ]
  },
  {
   "cell_type": "code",
   "execution_count": 3,
   "metadata": {
    "ExecuteTime": {
     "end_time": "2020-08-27T14:52:08.996308Z",
     "start_time": "2020-08-27T14:52:08.991810Z"
    }
   },
   "outputs": [
    {
     "data": {
      "text/plain": [
       "array([[0.55294118, 0.82745098, 0.78039216, 1.        ],\n",
       "       [1.        , 1.        , 0.70196078, 1.        ],\n",
       "       [0.74509804, 0.72941176, 0.85490196, 1.        ],\n",
       "       [0.98431373, 0.50196078, 0.44705882, 1.        ],\n",
       "       [0.50196078, 0.69411765, 0.82745098, 1.        ],\n",
       "       [0.99215686, 0.70588235, 0.38431373, 1.        ],\n",
       "       [0.70196078, 0.87058824, 0.41176471, 1.        ],\n",
       "       [0.98823529, 0.80392157, 0.89803922, 1.        ]])"
      ]
     },
     "execution_count": 3,
     "metadata": {},
     "output_type": "execute_result"
    }
   ],
   "source": [
    "plt.cm.get_cmap('Set3')(range(8))"
   ]
  },
  {
   "cell_type": "code",
   "execution_count": null,
   "metadata": {
    "ExecuteTime": {
     "end_time": "2020-03-24T07:55:09.251770Z",
     "start_time": "2020-03-24T07:55:09.113213Z"
    }
   },
   "outputs": [],
   "source": [
    "import pandas as pd\n",
    "pred=pd.read_csv('save_data/asghari/b1/output1.csv', header=0, names=[\"StartTime\", \"EndTime\", \"Activity\"])\n",
    "st = pd.to_datetime(pred['StartTime'], format='%Y-%m-%d %H:%M:%S')\n",
    "et = pd.to_datetime(pred['EndTime'], format='%Y-%m-%d %H:%M:%S')\n",
    "pred['StartTime'] = st\n",
    "\n",
    "pred['EndTime'] = et\n",
    "pred['Activity'] =pred.Activity.apply(lambda x: dataset.activities_map_inverse[x])\n",
    "evalres[0].pred_events=pred"
   ]
  },
  {
   "cell_type": "code",
   "execution_count": 12,
   "metadata": {
    "ExecuteTime": {
     "end_time": "2020-02-29T19:06:09.006372Z",
     "start_time": "2020-02-29T19:06:09.000379Z"
    }
   },
   "outputs": [
    {
     "data": {
      "text/plain": [
       "{'None': 0,\n",
       " 'Bathing': 1,\n",
       " 'Bed_Toilet_Transition': 2,\n",
       " 'Eating': 3,\n",
       " 'Enter_Home': 4,\n",
       " 'Housekeeping': 5,\n",
       " 'Leave_Home': 6,\n",
       " 'Meal_Preparation': 7,\n",
       " 'Personal_Hygiene': 8,\n",
       " 'Sleeping_Not_in_Bed': 9,\n",
       " 'Sleeping_in_Bed': 10,\n",
       " 'Take_Medicine': 11}"
      ]
     },
     "execution_count": 12,
     "metadata": {},
     "output_type": "execute_result"
    }
   ],
   "source": []
  },
  {
   "cell_type": "code",
   "execution_count": 19,
   "metadata": {
    "ExecuteTime": {
     "end_time": "2020-02-29T19:08:56.304817Z",
     "start_time": "2020-02-29T19:08:53.490172Z"
    }
   },
   "outputs": [],
   "source": [
    "run_info,dataset,evalres=utils.loadState('200211_12-39-09-Home1')"
   ]
  },
  {
   "cell_type": "code",
   "execution_count": 22,
   "metadata": {
    "ExecuteTime": {
     "end_time": "2020-02-29T19:09:26.764135Z",
     "start_time": "2020-02-29T19:09:26.757763Z"
    }
   },
   "outputs": [
    {
     "data": {
      "text/plain": [
       "(Timestamp('2009-07-17 15:52:22'),\n",
       " Timestamp('2009-08-03 22:16:23'),\n",
       " Timestamp('2009-07-17 15:52:25.218001'),\n",
       " Timestamp('2009-08-03 22:13:48.171001'))"
      ]
     },
     "execution_count": 22,
     "metadata": {},
     "output_type": "execute_result"
    }
   ],
   "source": [
    "evalres[0].pred_events=pred\n",
    "stime=evalres[0].pred_events.iloc[0].StartTime\n",
    "etime=evalres[0].pred_events.iloc[-1].EndTime\n",
    "rstime=evalres[0].real_events.iloc[0].StartTime\n",
    "retime=evalres[0].real_events.iloc[-1].EndTime\n",
    "\n",
    "stime,etime,rstime,retime"
   ]
  },
  {
   "cell_type": "code",
   "execution_count": 21,
   "metadata": {
    "ExecuteTime": {
     "end_time": "2020-02-29T19:09:23.238914Z",
     "start_time": "2020-02-29T19:09:23.230872Z"
    }
   },
   "outputs": [],
   "source": [
    "evalres[0].real_events=evalres[0].real_events.loc[evalres[0].real_events.EndTime>=stime].loc[evalres[0].real_events.StartTime<=etime]"
   ]
  },
  {
   "cell_type": "code",
   "execution_count": 17,
   "metadata": {
    "ExecuteTime": {
     "end_time": "2020-02-29T19:08:29.192786Z",
     "start_time": "2020-02-29T19:08:29.190263Z"
    }
   },
   "outputs": [],
   "source": [
    "evalres[0]=evalres[4]"
   ]
  },
  {
   "cell_type": "code",
   "execution_count": 23,
   "metadata": {
    "ExecuteTime": {
     "end_time": "2020-02-29T19:09:37.137344Z",
     "start_time": "2020-02-29T19:09:37.130158Z"
    }
   },
   "outputs": [],
   "source": [
    "\n",
    "evalres[0].Sdata=None\n",
    "evalres[0].predicted=None\n",
    "evalres[0].shortrunname=\"Asghari_b1\"\n",
    "evalres[0].predicted_classes=None\n",
    "evalres[0].event_cm=None\n",
    "evalres[0].quality={'accuracy': 0, 'precision': .45, 'recall': 0.61, 'f1': 0.52}\n",
    "evalres[0].pred_events=pred"
   ]
  },
  {
   "cell_type": "code",
   "execution_count": 24,
   "metadata": {
    "ExecuteTime": {
     "end_time": "2020-02-29T19:09:40.383518Z",
     "start_time": "2020-02-29T19:09:40.170119Z"
    }
   },
   "outputs": [],
   "source": [
    "\n",
    "utils.saveState([run_info,dataset,{0:evalres[0]}],'asghari-Home1')"
   ]
  },
  {
   "cell_type": "code",
   "execution_count": 1,
   "metadata": {
    "ExecuteTime": {
     "end_time": "2020-07-13T10:38:52.334046Z",
     "start_time": "2020-07-13T10:38:52.283996Z"
    }
   },
   "outputs": [
    {
     "ename": "NameError",
     "evalue": "name 'plt' is not defined",
     "output_type": "error",
     "traceback": [
      "\u001b[0;31m---------------------------------------------------------------------------\u001b[0m",
      "\u001b[0;31mNameError\u001b[0m                                 Traceback (most recent call last)",
      "\u001b[0;32m<ipython-input-1-543213d92a44>\u001b[0m in \u001b[0;36m<module>\u001b[0;34m\u001b[0m\n\u001b[0;32m----> 1\u001b[0;31m \u001b[0mp\u001b[0m\u001b[0;34m,\u001b[0m\u001b[0max\u001b[0m\u001b[0;34m=\u001b[0m\u001b[0mplt\u001b[0m\u001b[0;34m.\u001b[0m\u001b[0msubplots\u001b[0m\u001b[0;34m(\u001b[0m\u001b[0;34m)\u001b[0m\u001b[0;34m\u001b[0m\u001b[0;34m\u001b[0m\u001b[0m\n\u001b[0m\u001b[1;32m      2\u001b[0m \u001b[0malpha\u001b[0m\u001b[0;34m=\u001b[0m\u001b[0;36m1\u001b[0m\u001b[0;34m\u001b[0m\u001b[0;34m\u001b[0m\u001b[0m\n\u001b[1;32m      3\u001b[0m \u001b[0mx\u001b[0m\u001b[0;34m=\u001b[0m\u001b[0mnumpy\u001b[0m\u001b[0;34m.\u001b[0m\u001b[0marange\u001b[0m\u001b[0;34m(\u001b[0m\u001b[0;36m0\u001b[0m\u001b[0;34m,\u001b[0m\u001b[0;36m1\u001b[0m\u001b[0;34m,\u001b[0m\u001b[0;36m.01\u001b[0m\u001b[0;34m)\u001b[0m\u001b[0;34m\u001b[0m\u001b[0;34m\u001b[0m\u001b[0m\n\u001b[1;32m      4\u001b[0m \u001b[0;34m\u001b[0m\u001b[0m\n\u001b[1;32m      5\u001b[0m \u001b[0;32mfor\u001b[0m \u001b[0malpha\u001b[0m \u001b[0;32min\u001b[0m \u001b[0;34m[\u001b[0m\u001b[0;36m1\u001b[0m\u001b[0;34m,\u001b[0m \u001b[0;36m2\u001b[0m\u001b[0;34m,\u001b[0m \u001b[0;36m4\u001b[0m\u001b[0;34m,\u001b[0m \u001b[0;36m8\u001b[0m \u001b[0;34m,\u001b[0m\u001b[0;36m16\u001b[0m\u001b[0;34m]\u001b[0m\u001b[0;34m:\u001b[0m\u001b[0;34m\u001b[0m\u001b[0;34m\u001b[0m\u001b[0m\n",
      "\u001b[0;31mNameError\u001b[0m: name 'plt' is not defined"
     ]
    }
   ],
   "source": [
    "p,ax=plt.subplots()\n",
    "alpha=1\n",
    "x=numpy.arange(0,1,.01)\n",
    "\n",
    "for alpha in [1, 2, 4, 8 ,16]:\n",
    "    y=1-np.exp(-alpha *x)\n",
    "    ax.plot(x,y, label='\\u03B2 ='+str(alpha))\n",
    "ax.legend()\n",
    "\n"
   ]
  }
 ],
 "metadata": {
  "kernelspec": {
   "display_name": "Python 3",
   "language": "python",
   "name": "python3"
  },
  "language_info": {
   "codemirror_mode": {
    "name": "ipython",
    "version": 3
   },
   "file_extension": ".py",
   "mimetype": "text/x-python",
   "name": "python",
   "nbconvert_exporter": "python",
   "pygments_lexer": "ipython3",
   "version": "3.6.9"
  },
  "toc": {
   "base_numbering": 1,
   "nav_menu": {},
   "number_sections": true,
   "sideBar": true,
   "skip_h1_title": false,
   "title_cell": "Table of Contents",
   "title_sidebar": "Contents",
   "toc_cell": false,
   "toc_position": {
    "height": "calc(100% - 180px)",
    "left": "10px",
    "top": "150px",
    "width": "165px"
   },
   "toc_section_display": true,
   "toc_window_display": false
  },
  "varInspector": {
   "cols": {
    "lenName": 16,
    "lenType": 16,
    "lenVar": 40
   },
   "kernels_config": {
    "python": {
     "delete_cmd_postfix": "",
     "delete_cmd_prefix": "del ",
     "library": "var_list.py",
     "varRefreshCmd": "print(var_dic_list())"
    },
    "r": {
     "delete_cmd_postfix": ") ",
     "delete_cmd_prefix": "rm(",
     "library": "var_list.r",
     "varRefreshCmd": "cat(var_dic_list()) "
    }
   },
   "types_to_exclude": [
    "module",
    "function",
    "builtin_function_or_method",
    "instance",
    "_Feature"
   ],
   "window_display": false
  }
 },
 "nbformat": 4,
 "nbformat_minor": 4
}
