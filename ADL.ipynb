{
 "cells": [
  {
   "cell_type": "markdown",
   "metadata": {},
   "source": [
    "# Imports"
   ]
  },
  {
   "cell_type": "code",
   "execution_count": 1,
   "metadata": {},
   "outputs": [
    {
     "name": "stdout",
     "output_type": "stream",
     "text": [
      "general  ==>  ['libinstall', 'utils', 'dataset_viewer', 'libimport', 'confusion_matrix_pretty_print']\n"
     ]
    },
    {
     "name": "stderr",
     "output_type": "stream",
     "text": [
      "Installing import-ipynb: 100%|██████████| 11/11 [00:00<00:00, 944.97it/s]\n"
     ]
    },
    {
     "name": "stdout",
     "output_type": "stream",
     "text": [
      "Skip! labextensions are installed\n",
      "Utils loaded successfully!!\n",
      "Libraries loaded successfully.\n",
      "preprocessing  ==>  ['preprocessing']\n",
      "segmentation  ==>  ['Probabilistic_old', 'FixedSlidingWindow', 'Probabilistic', 'FixedEventWindow', 'segmentation_abstract', 'FixedTimeWindow']\n",
      "feature_extraction  ==>  ['Cook1FeatureExtraction', 'DeepLearningFeatureExtraction', 'SimpleFeatureExtraction', 'SequenceFeatureExtraction', 'feature_abstract']\n",
      "activity_fetcher  ==>  ['CookActivityFetcher', 'activity_fetcher_abstract', 'MaxActivityFetcher']\n",
      "classifier  ==>  ['SVM', 'classifier_abstract', 'KerasClassifier', 'LSTMTest']\n",
      "combiner  ==>  ['combiner_abstract', 'SimpleCombiner', 'oldSimpleCombiner']\n",
      "evalutation  ==>  ['evalution_abstract', 'Simple', 'KFold']\n",
      "metric  ==>  ['metric_abstract', 'old']\n",
      "datatool  ==>  ['A4H', 'VanKasteren', 'CASAS', 'dataset_abstract']\n"
     ]
    },
    {
     "name": "stderr",
     "output_type": "stream",
     "text": [
      "/opt/conda/lib/python3.6/site-packages/sklearn/externals/joblib/__init__.py:15: DeprecationWarning: sklearn.externals.joblib is deprecated in 0.21 and will be removed in 0.23. Please import this functionality directly from joblib, which can be installed with: pip install joblib. If this warning is raised when loading pickled models, you may need to re-serialize those models with scikit-learn 0.21+.\n",
      "  warnings.warn(msg, category=DeprecationWarning)\n"
     ]
    }
   ],
   "source": [
    "%reload_ext autoreload\n",
    "%autoreload 2\n",
    "#%aimport libinstall\n",
    "from general import *\n",
    "from preprocessing import *\n",
    "from segmentation import *\n",
    "from feature_extraction import *\n",
    "from activity_fetcher import *\n",
    "from classifier import *\n",
    "from combiner import *\n",
    "from evalutation import *\n",
    "from metric import *\n",
    "from datatool import *\n",
    "from constants import *\n"
   ]
  },
  {
   "cell_type": "code",
   "execution_count": 2,
   "metadata": {},
   "outputs": [
    {
     "data": {
      "text/plain": [
       "<datatool.CASAS.Home1 at 0x7fa70f9c62e8>"
      ]
     },
     "execution_count": 2,
     "metadata": {},
     "output_type": "execute_result"
    }
   ],
   "source": [
    "evalutate(dataset,runml)\n",
    "\n",
    "def runml(dataset):\n",
    "    \n",
    "\n"
   ]
  },
  {
   "cell_type": "code",
   "execution_count": 5,
   "metadata": {},
   "outputs": [
    {
     "data": {
      "text/plain": [
       "<general.utils.Data at 0x7f419828e390>"
      ]
     },
     "execution_count": 5,
     "metadata": {},
     "output_type": "execute_result"
    }
   ],
   "source": [
    "constants.methods"
   ]
  }
 ],
 "metadata": {
  "kernelspec": {
   "display_name": "Python 3",
   "language": "python",
   "name": "python3"
  },
  "language_info": {
   "codemirror_mode": {
    "name": "ipython",
    "version": 3
   },
   "file_extension": ".py",
   "mimetype": "text/x-python",
   "name": "python",
   "nbconvert_exporter": "python",
   "pygments_lexer": "ipython3",
   "version": "3.6.9"
  },
  "toc": {
   "base_numbering": 1,
   "nav_menu": {},
   "number_sections": true,
   "sideBar": true,
   "skip_h1_title": false,
   "title_cell": "Table of Contents",
   "title_sidebar": "Contents",
   "toc_cell": false,
   "toc_position": {},
   "toc_section_display": true,
   "toc_window_display": false
  },
  "varInspector": {
   "cols": {
    "lenName": 16,
    "lenType": 16,
    "lenVar": 40
   },
   "kernels_config": {
    "python": {
     "delete_cmd_postfix": "",
     "delete_cmd_prefix": "del ",
     "library": "var_list.py",
     "varRefreshCmd": "print(var_dic_list())"
    },
    "r": {
     "delete_cmd_postfix": ") ",
     "delete_cmd_prefix": "rm(",
     "library": "var_list.r",
     "varRefreshCmd": "cat(var_dic_list()) "
    }
   },
   "types_to_exclude": [
    "module",
    "function",
    "builtin_function_or_method",
    "instance",
    "_Feature"
   ],
   "window_display": false
  }
 },
 "nbformat": 4,
 "nbformat_minor": 4
}
