{
 "cells": [
  {
   "cell_type": "code",
   "execution_count": null,
   "metadata": {
    "scrolled": false
   },
   "outputs": [
    {
     "name": "stdout",
     "output_type": "stream",
     "text": [
      "Utils loaded successfully!!\n",
      "metric  ==>  ['classical', 'CMbasedMetric', 'EventBasedMetric', 'event_confusion_matrix', 'metric_abstract', 'MyMetric']\n"
     ]
    },
    {
     "name": "stderr",
     "output_type": "stream",
     "text": [
      "WARNING: Logging before flag parsing goes to stderr.\n",
      "I0418 19:41:33.226213 34616 utils.py:141] NumExpr defaulting to 8 threads.\n",
      "I0418 19:41:36.137550 34616 dataset_abstract.py:24] database file loaded... now convert it \n",
      "I0418 19:41:37.311877 34616 dataset_abstract.py:26] activities converted...\n",
      "I0418 19:41:38.303321 34616 dataset_abstract.py:28] sensors converted...\n",
      "I0418 19:41:40.054313 34616 SeperateGroup.py:24] woring on activties [1]\n",
      "I0418 19:41:40.060321 34616 OptLearn.py:20] SimplePreprocessing_FixedSlidingWindow_CookActivityFetcher_KHistory_LSTMTest_SimpleCombiner_Accuracy_Accuracy_ start\n",
      "I0418 19:41:40.061307 34616 OptLearn.py:78] <FixedSlidingWindow> {'findopt': False, 'defparams': [{'var': 'size', 'min': 60, 'max': 900, 'type': 'float', 'init': 60.0}, {'var': 'shift', 'min': 10, 'max': 420, 'type': 'float', 'init': 60}], 'func': <general.utils.Data object at 0x000001D0E5007AC8>}\n",
      "I0418 19:41:40.062305 34616 OptLearn.py:78] <KHistory> {'findopt': False, 'defparams': [{'k': 2, 'var': 'k', 'init': 2}, {'method': <feature_extraction.Simple.Simple object at 0x000001D0CA0C8EF0>, 'var': 'method', 'init': <feature_extraction.Simple.Simple object at 0x000001D0CA0C8EF0>}], 'func': <general.utils.Data object at 0x000001D0E5007AC8>}\n",
      "I0418 19:41:40.063305 34616 OptLearn.py:78] <LSTMTest> {'findopt': False, 'defparams': [{'var': 'epochs', 'init': 10}], 'func': <general.utils.Data object at 0x000001D0E5007AC8>}\n",
      "I0418 19:41:40.065305 34616 OptLearn.py:40] {'size': 60.0, 'shift': 60}\n",
      "I0418 19:41:40.065305 34616 OptLearn.py:41] SimplePreprocessing_FixedSlidingWindow_CookActivityFetcher_KHistory_LSTMTest_SimpleCombiner_Accuracy_Accuracy_ segparam: {'size': 60.0, 'shift': 60} feaparam: {'k': 2, 'method': <feature_extraction.Simple.Simple object at 0x000001D0CA0C8EF0>} claparam: {'epochs': 10}\n",
      "I0418 19:41:40.067304 34616 Simple.py:38] Starting .... SimplePreprocessing_FixedSlidingWindow_CookActivityFetcher_KHistory_LSTMTest_SimpleCombiner_Accuracy_Accuracy_\n",
      "I0418 19:41:54.920830 34616 Simple.py:40] Preprocessing Finished SimplePreprocessing\n"
     ]
    },
    {
     "name": "stdout",
     "output_type": "stream",
     "text": [
      "FixedSlidingWindow 0\n",
      "FixedSlidingWindow 10000\n",
      "FixedSlidingWindow 20000\n"
     ]
    },
    {
     "name": "stderr",
     "output_type": "stream",
     "text": [
      "I0418 19:43:13.190628 34616 Simple.py:42] Segmentation Finished 26956 segment created FixedSlidingWindow\n",
      "I0418 19:43:21.854686 34616 Simple.py:44] FeatureExtraction Finished shape (26956, 2, 32) , KHistory\n"
     ]
    },
    {
     "name": "stdout",
     "output_type": "stream",
     "text": [
      "Model: \"LSTMTest\"\n",
      "_________________________________________________________________\n",
      "Layer (type)                 Output Shape              Param #   \n",
      "=================================================================\n",
      "lstm (LSTM)                  (None, 128)               82432     \n",
      "_________________________________________________________________\n",
      "dropout (Dropout)            (None, 128)               0         \n",
      "_________________________________________________________________\n",
      "dense (Dense)                (None, 2)                 258       \n",
      "=================================================================\n",
      "Total params: 82,690\n",
      "Trainable params: 82,690\n",
      "Non-trainable params: 0\n",
      "_________________________________________________________________\n"
     ]
    },
    {
     "name": "stderr",
     "output_type": "stream",
     "text": [
      "I0418 19:43:24.278300 34616 Simple.py:47] Classifier model created  LSTMTest\n"
     ]
    },
    {
     "name": "stdout",
     "output_type": "stream",
     "text": [
      "Train on 26956 samples\n",
      "Epoch 1/10\n",
      "26956/26956 [==============================] - 18s 668us/sample - loss: 0.0478 - acc: 0.9916\n",
      "Epoch 2/10\n",
      "26956/26956 [==============================] - 10s 368us/sample - loss: 0.0167 - acc: 0.9948\n",
      "Epoch 3/10\n",
      "26956/26956 [==============================] - 11s 417us/sample - loss: 0.0150 - acc: 0.9952\n",
      "Epoch 4/10\n",
      "26956/26956 [==============================] - 10s 372us/sample - loss: 0.0134 - acc: 0.9955\n",
      "Epoch 5/10\n",
      "26956/26956 [==============================] - 10s 368us/sample - loss: 0.0127 - acc: 0.9957\n",
      "Epoch 6/10\n",
      "26956/26956 [==============================] - 10s 369us/sample - loss: 0.0125 - acc: 0.9957\n",
      "Epoch 7/10\n",
      "26956/26956 [==============================] - 11s 398us/sample - loss: 0.0121 - acc: 0.9959\n",
      "Epoch 8/10\n",
      "26956/26956 [==============================] - 10s 372us/sample - loss: 0.0117 - acc: 0.9962\n",
      "Epoch 9/10\n",
      "26956/26956 [==============================] - 10s 377us/sample - loss: 0.0117 - acc: 0.9958\n",
      "Epoch 10/10\n",
      "26956/26956 [==============================] - 10s 380us/sample - loss: 0.0116 - acc: 0.9962\n"
     ]
    },
    {
     "name": "stderr",
     "output_type": "stream",
     "text": [
      "I0418 19:45:14.947083 34616 Simple.py:49] Classifier model trained  LSTMTest\n",
      "I0418 19:45:14.949068 34616 Simple.py:51] Evaluating....\n",
      "I0418 19:49:09.485079 34616 Simple.py:65] events merged  SimpleCombiner\n"
     ]
    }
   ],
   "source": [
    "import main\n",
    "main.run()"
   ]
  }
 ],
 "metadata": {
  "kernelspec": {
   "display_name": "Python 3",
   "language": "python",
   "name": "python3"
  },
  "language_info": {
   "codemirror_mode": {
    "name": "ipython",
    "version": 3
   },
   "file_extension": ".py",
   "mimetype": "text/x-python",
   "name": "python",
   "nbconvert_exporter": "python",
   "pygments_lexer": "ipython3",
   "version": "3.6.8"
  }
 },
 "nbformat": 4,
 "nbformat_minor": 2
}
